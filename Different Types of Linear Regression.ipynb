{
  "nbformat": 4,
  "nbformat_minor": 0,
  "metadata": {
    "colab": {
      "provenance": []
    },
    "kernelspec": {
      "name": "python3",
      "display_name": "Python 3"
    },
    "language_info": {
      "name": "python"
    }
  },
  "cells": [
    {
      "cell_type": "markdown",
      "source": [
        "**simple linear regression model**"
      ],
      "metadata": {
        "id": "cQHdH11942fm"
      }
    },
    {
      "cell_type": "code",
      "execution_count": 11,
      "metadata": {
        "colab": {
          "base_uri": "https://localhost:8080/"
        },
        "id": "xaUivWyV4rI4",
        "outputId": "03b54a96-26ec-43e8-ea4f-dd6e6ed8d8f6"
      },
      "outputs": [
        {
          "output_type": "stream",
          "name": "stdout",
          "text": [
            "slope: [2.93693502]\n",
            "y-intercept: [2.22215108]\n",
            "predicted value for x = 6: [19.84376121]\n"
          ]
        }
      ],
      "source": [
        "import numpy as np\n",
        "\n",
        "# define a function to calculate the slope and y-intercept of the line\n",
        "def linear_regression(x, y):\n",
        "    n = len(x)\n",
        "    x_mean = np.mean(x)\n",
        "    y_mean = np.mean(y)\n",
        "    \n",
        "    numerator = 0\n",
        "    denominator = 0\n",
        "    \n",
        "    for i in range(n):\n",
        "        numerator += (x[i] - x_mean) * (y[i] - y_mean)\n",
        "        denominator += (x[i] - x_mean) ** 2\n",
        "        \n",
        "    slope = numerator / denominator\n",
        "    y_intercept = y_mean - slope * x_mean\n",
        "    \n",
        "    return slope, y_intercept\n",
        "\n",
        "# define a function to make predictions using the calculated slope and y-intercept\n",
        "def predict(x, slope, y_intercept):\n",
        "    y_pred = slope * x + y_intercept\n",
        "    return y_pred\n",
        "\n",
        "# example usage\n",
        "np.random.seed(0)\n",
        "x = np.random.rand(100, 1)\n",
        "y = 2 + 3 * x + np.random.randn(100, 1)\n",
        "\n",
        "slope, y_intercept = linear_regression(x, y)\n",
        "print('slope:', slope)\n",
        "print('y-intercept:', y_intercept)\n",
        "\n",
        "x_new = 6\n",
        "y_pred = predict(x_new, slope, y_intercept)\n",
        "print('predicted value for x = {}:'.format(x_new), y_pred)\n"
      ]
    },
    {
      "cell_type": "markdown",
      "source": [
        "**polynomial regression**"
      ],
      "metadata": {
        "id": "UljrBv2i5Fz0"
      }
    },
    {
      "cell_type": "code",
      "source": [
        "import numpy as np\n",
        "\n",
        "# define a function to create a polynomial feature matrix\n",
        "def create_polynomial_features(x, degree):\n",
        "    x_poly = np.zeros((len(x), degree))\n",
        "    \n",
        "    for i in range(degree):\n",
        "        x_poly[:, i] = x ** (i+1)\n",
        "    \n",
        "    return x_poly\n",
        "\n",
        "# define a function to perform polynomial regression\n",
        "def polynomial_regression(x, y, degree):\n",
        "    x_poly = create_polynomial_features(x, degree)\n",
        "    model = np.linalg.lstsq(x_poly, y, rcond=None)[0]\n",
        "    \n",
        "    return model\n",
        "\n",
        "# define a function to make predictions using the polynomial model\n",
        "def predict(x, model):\n",
        "    y_pred = np.zeros_like(x)\n",
        "    \n",
        "    for i in range(len(model)):\n",
        "        y_pred += model[i] * x ** (i+1)\n",
        "    \n",
        "    return y_pred\n",
        "\n",
        "# example usage\n",
        "x = np.array([1, 2, 3, 4, 5])\n",
        "y = np.array([2, 4, 5, 4, 5])\n",
        "degree = 2\n",
        "\n",
        "model = polynomial_regression(x, y, degree)\n",
        "print('polynomial coefficients:', model)\n",
        "\n",
        "x_new = np.array([6])\n",
        "x_new_poly = create_polynomial_features(x_new, degree)\n",
        "y_pred = predict(x_new_poly, model)\n",
        "print('predicted value for x = {}:'.format(x_new[0]), y_pred[0])\n"
      ],
      "metadata": {
        "colab": {
          "base_uri": "https://localhost:8080/"
        },
        "id": "5nh3IqIX46dn",
        "outputId": "b5554db7-0620-4d02-d437-365e4f437036"
      },
      "execution_count": 14,
      "outputs": [
        {
          "output_type": "stream",
          "name": "stdout",
          "text": [
            "polynomial coefficients: [ 2.45776398 -0.30745342]\n",
            "predicted value for x = 6: [   3.67826087 -309.98012422]\n"
          ]
        }
      ]
    },
    {
      "cell_type": "code",
      "source": [
        "degree = 3\n",
        "\n",
        "model = polynomial_regression(x, y, degree)\n",
        "print('polynomial coefficients:', model)\n",
        "\n",
        "x_new = np.array([6])\n",
        "x_new_poly = create_polynomial_features(x_new, degree)\n",
        "y_pred = predict(x_new_poly, model)\n",
        "print('predicted value for x = {}:'.format(x_new[0]), y_pred[0])"
      ],
      "metadata": {
        "colab": {
          "base_uri": "https://localhost:8080/"
        },
        "id": "qyBNAX0_5Kt7",
        "outputId": "8d04ce0e-7181-48f3-a8fc-48632266cd18"
      },
      "execution_count": 3,
      "outputs": [
        {
          "output_type": "stream",
          "name": "stdout",
          "text": [
            "polynomial coefficients: [ 3.11786698 -0.71753247  0.05716253]\n",
            "predicted value for x = 6: [5.22314050e+00 1.84929634e+03 5.43262909e+05]\n"
          ]
        }
      ]
    },
    {
      "cell_type": "markdown",
      "source": [
        "**multiple linear regression**"
      ],
      "metadata": {
        "id": "OVBUJ5nI5-0z"
      }
    },
    {
      "cell_type": "code",
      "source": [
        "import numpy as np\n",
        "\n",
        "# define a function to perform multiple linear regression\n",
        "def multiple_linear_regression(x, y):\n",
        "    X = np.column_stack((np.ones(len(x)), x)) # add a column of ones for the intercept term\n",
        "    model = np.linalg.lstsq(X, y, rcond=None)[0]\n",
        "    \n",
        "    return model\n",
        "\n",
        "# define a function to make predictions using the multiple linear regression model\n",
        "def predict(x, model):\n",
        "    X = np.column_stack((np.ones(len(x)), x))\n",
        "    y_pred = np.dot(X, model)\n",
        "    \n",
        "    return y_pred\n",
        "\n",
        "# example usage\n",
        "X = np.random.rand(100, 3)\n",
        "# Generate random output data\n",
        "y = 3*X[:,0] + 2*X[:,1] - 5*X[:,2] + np.random.randn(100)\n",
        "\n",
        "#x1 = np.array([1, 2, 3, 4, 5])\n",
        "#x2 = np.array([2, 4, 5, 4, 5])\n",
        "#y = np.array([5, 7, 8, 8, 10])\n",
        "\n",
        "#X = np.column_stack((x1, x2))\n",
        "model = multiple_linear_regression(X, y)\n",
        "print('intercept and coefficients:', model)\n",
        "\n",
        "X_new = np.random.rand(3, 3) # new values of x1, x2, and x3\n",
        "y_pred = predict(X_new, model)\n",
        "print('predicted values:', y_pred)\n"
      ],
      "metadata": {
        "colab": {
          "base_uri": "https://localhost:8080/"
        },
        "id": "IOZ5mqXh5eI0",
        "outputId": "5aa2e881-fff5-408a-d484-ab6cddeef598"
      },
      "execution_count": 17,
      "outputs": [
        {
          "output_type": "stream",
          "name": "stdout",
          "text": [
            "intercept and coefficients: [ 0.37616499  2.62635562  2.14424022 -5.62602065]\n",
            "predicted values: [-0.46692507  1.29967731 -1.42251662]\n"
          ]
        }
      ]
    },
    {
      "cell_type": "code",
      "source": [],
      "metadata": {
        "id": "LNX6OPrL6DMU"
      },
      "execution_count": null,
      "outputs": []
    },
    {
      "cell_type": "code",
      "source": [
        "from sklearn.datasets import load_diabetes\n",
        "from sklearn.model_selection import train_test_split\n",
        "import numpy as np\n",
        "\n",
        "# load the diabetes dataset\n",
        "diabetes = load_diabetes()\n",
        "\n",
        "# split the dataset into training and testing sets\n",
        "X_train, X_test, y_train, y_test = train_test_split(diabetes.data, diabetes.target, test_size=0.2, random_state=42)\n",
        "\n",
        "# create a simple linear regression model\n",
        "def simple_linear_regression(x, y):\n",
        "    X = np.column_stack((np.ones(len(x)), x)) # add a column of ones for the intercept term\n",
        "    model = np.linalg.lstsq(X, y, rcond=None)[0]\n",
        "    \n",
        "    return model\n",
        "\n",
        "# fit a simple linear regression model to the training data\n",
        "x_train = X_train[:, 2] # select one feature from the dataset\n",
        "y_train = y_train\n",
        "model = simple_linear_regression(x_train, y_train)\n",
        "print('Simple linear regression model coefficients:', model)\n",
        "\n",
        "# create a polynomial regression model\n",
        "def create_polynomial_features(x, degree):\n",
        "    x_poly = np.zeros((len(x), degree))\n",
        "    \n",
        "    for i in range(degree):\n",
        "        x_poly[:, i] = x**(i+1)\n",
        "    \n",
        "    return x_poly\n",
        "\n",
        "def polynomial_regression(x, y, degree):\n",
        "    X = create_polynomial_features(x, degree) # create a polynomial feature matrix\n",
        "    model = np.linalg.lstsq(X, y, rcond=None)[0]\n",
        "    \n",
        "    return model\n",
        "\n",
        "# fit a polynomial regression model to the training data\n",
        "degree = 3\n",
        "x_train = X_train[:, 2] # select one feature from the dataset\n",
        "y_train = y_train\n",
        "model = polynomial_regression(x_train, y_train, degree)\n",
        "print('Polynomial regression model coefficients:', model)\n",
        "\n",
        "# create a multiple linear regression model\n",
        "def multiple_linear_regression(x, y):\n",
        "    X = np.column_stack((np.ones(len(x)), x)) # add a column of ones for the intercept term\n",
        "    model = np.linalg.lstsq(X, y, rcond=None)[0]\n",
        "    \n",
        "    return model\n",
        "\n",
        "# fit a multiple linear regression model to the training data\n",
        "x_train = X_train[:, :3] # select multiple features from the dataset\n",
        "y_train = y_train\n",
        "model = multiple_linear_regression(x_train, y_train)\n",
        "print('Multiple linear regression model coefficients:', model)\n"
      ],
      "metadata": {
        "colab": {
          "base_uri": "https://localhost:8080/"
        },
        "id": "zjnNLmZb6aZM",
        "outputId": "0b67f408-dcb7-44a9-9397-74fb8d130c15"
      },
      "execution_count": 10,
      "outputs": [
        {
          "output_type": "stream",
          "name": "stdout",
          "text": [
            "Simple linear regression model coefficients: [152.00335421 998.57768914]\n",
            "Polynomial regression model coefficients: [   1309.67254392   36375.62709262 -199023.0438048 ]\n",
            "Multiple linear regression model coefficients: [151.833079   156.20183803 -47.06639118 971.91191127]\n"
          ]
        }
      ]
    },
    {
      "cell_type": "code",
      "source": [],
      "metadata": {
        "id": "38MIagDF6a4G"
      },
      "execution_count": null,
      "outputs": []
    }
  ]
}